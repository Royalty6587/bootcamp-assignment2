{
 "cells": [
  {
   "cell_type": "code",
   "execution_count": null,
   "metadata": {},
   "outputs": [],
   "source": [
    "# Write a Python program to swap two variables:\n",
    "\n",
    "# Swapping two variables\n",
    "a = 5\n",
    "b = 10\n",
    "# Swap the values\n",
    "a, b = b, a\n",
    "print(\"After swapping: a =\", a, \"b =\", b)\n"
   ]
  },
  {
   "cell_type": "code",
   "execution_count": null,
   "metadata": {},
   "outputs": [],
   "source": [
    "# Create a list of your favorite movies and print each movie using a loop:\n",
    "\n",
    "# List of favorite movies\n",
    "favorite_movies = [\"Inception\", \"The Matrix\", \"Interstellar\", \"The Dark Knight\", \"Pulp Fiction\"]\n",
    "\n",
    "# Print each movie using a loop\n",
    "for movie in favorite_movies:\n",
    "    print(movie)\n"
   ]
  },
  {
   "cell_type": "code",
   "execution_count": null,
   "metadata": {},
   "outputs": [],
   "source": [
    "# Write a program to calculate the area of a circle given its radius:\n",
    "\n",
    "# Calculate the area of a circle\n",
    "import math\n",
    "radius = float(input(\"Enter the radius of the circle: \"))\n",
    "area = math.pi * radius ** 2\n",
    "print(f\"The area of the circle with radius {radius} is {area:.2f}\")\n"
   ]
  },
  {
   "cell_type": "code",
   "execution_count": null,
   "metadata": {},
   "outputs": [],
   "source": [
    "# Write a simple Python code to take your name, age, and weight from the console:\n",
    "\n",
    "# Get user input\n",
    "name = input(\"Enter your name: \")\n",
    "age = int(input(\"Enter your age: \"))\n",
    "weight = float(input(\"Enter your weight (in kg): \"))\n",
    "\n",
    "# Print the formatted string\n",
    "print(f\"My name is {name}, and I am {age} years old. I weigh {weight} kg.\")\n"
   ]
  },
  {
   "cell_type": "code",
   "execution_count": null,
   "metadata": {},
   "outputs": [],
   "source": [
    "# Write a simple Python code to create a dictionary of students' data:\n",
    "\n",
    "# Create a dictionary of students' data\n",
    "students = [\n",
    "    {\"name\": \"Alice\", \"Reg_NO\": \"001\", \"gender\": \"female\"},\n",
    "    {\"name\": \"Bob\", \"Reg_NO\": \"002\", \"gender\": \"male\"},\n",
    "    {\"name\": \"Charlie\", \"Reg_NO\": \"003\", \"gender\": \"male\"},\n",
    "    {\"name\": \"Diana\", \"Reg_NO\": \"004\", \"gender\": \"female\"},\n",
    "    {\"name\": \"Ethan\", \"Reg_NO\": \"005\", \"gender\": \"male\"}\n",
    "]\n",
    "\n",
    "# Print student data in the specified format\n",
    "for student in students:\n",
    "    print(f\"{student['name']} with Reg NO {student['Reg_NO']} is a {student['gender']}\")\n"
   ]
  }
 ],
 "metadata": {
  "language_info": {
   "name": "python"
  }
 },
 "nbformat": 4,
 "nbformat_minor": 2
}
